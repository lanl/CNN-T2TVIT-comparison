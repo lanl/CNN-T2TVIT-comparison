import os
import sys
import numpy as np

## Plotting Packages
import matplotlib as mpl
import matplotlib.pyplot as plt


def npz_pvi2field(npz: np.lib.npyio.NpzFile, field: str):
	""" Function to extract a field "picture" array from an .npz file

	    Args:
	        npz (np.lib.npyio.NpzFile): a loaded .npz file
	        field (str): name of field to extract

	    Returns:
			pic (np.ndarray[(1700, 500), float]): field 
    """
	pic = npz[field]
	pic = pic[800:, :250]
	pic = np.concatenate((np.fliplr(pic), pic), axis=1)
	return pic


def get_ticks(npz: np.lib.npyio.NpzFile):
	""" Function to generate axis tick markers and labels from the .npz file

	    Args:
	        npz (np.lib.npyio.NpzFile): a loaded .npz file

	    Returns:
	        Rlabels (np.ndarray[(any), floar]): Array of labels for radial axis; 
	        									looks like [max --> 0 --> max], in increments of 0.5cm
	        Rticks (np.ndarray[(any), float]):  Array of pixel locations where tick marks go, corresponding to Rlabels
	        Zlabels (np.ndarray[(any), float]): Array of labels for vertical axis; 
	        									looks like [0 --> max], in increments of 1cm
	        Zticks (np.ndarray[(any), float]): Array of pixel locations where tick marks go, corresponding to Zlabels
	"""

	Rcoord = npz['Rcoord']
	Rcoord = Rcoord[0:250]#crop, only half
	R_max = round(max(Rcoord), 1)
	Rlabel = np.arange(0,R_max+1,0.5)[:-1]
	Rlabels = np.concatenate((np.flip(Rlabel), Rlabel[1:]))
	Raxis = np.shape(Rlabels)[0]
	Rticks = np.linspace(start=0, stop=500, num=Raxis)

	Zcoord = npz['Zcoord']
	Zcoord = Zcoord[(2500-1700):]
	Z_min = round(min(Zcoord), 2)
	Z_max = round(max(Zcoord), 2)
	Zlabels = np.arange(Z_min,Z_max+1,1)
	Zaxis = np.shape(Zlabels)[0]
	Zticks = np.linspace(start=0, stop=1700, num=Zaxis)

	return Rlabels, Rticks, Zlabels, Zticks


early_npz = np.load('../data/nc231213_Sn_id0500_pvi_idx00105.npz')
early_rho = npz_pvi2field(early_npz, 'rho')
late_npz = np.load('../data/nc231213_Sn_id0500_pvi_idx00125.npz')
late_rho = npz_pvi2field(late_npz, 'rho')


print(r'The early-time density field is at {}$\mu$s.'.format(round(early_npz['sim_time'].item(), 1)))
print(r'The late-time density field is at {}$\mu$s.'.format(round(late_npz['sim_time'].item(), 1)))


fig, (ax1, ax2) = plt.subplots(1, 2, figsize=(8,10), layout="constrained")
#fig.suptitle('Nested Cylinder Synthetic Density Fields', fontsize=18)
vmin = min(np.min(early_rho), np.min(late_rho))
vmax = max(np.max(early_rho), np.max(late_rho))
Rlabels, Rticks, Zlabels, Zticks = get_ticks(early_npz)

ax1.imshow(early_rho, cmap='Greys', origin='lower', vmin=vmin, vmax=vmax)
ax1.set_xlabel('R-axis (cm)')
ax1.set_ylabel('Z-axis (cm)', rotation=90);
ax1.set_xticks(ticks=Rticks,labels=Rlabels, fontsize=12, rotation=45)
ax1.set_yticks(ticks=Zticks,labels=Zlabels, fontsize=12)
ax1.set_title('Density Field at {}$\mu$s'.format(round(early_npz['sim_time'].item(),1)), y=-0.1)
ax1.axvline(Rticks[5], ls=':', color='k')

ax2.imshow(late_rho, cmap='Greys', origin='lower', vmin=vmin, vmax=vmax)
ax2.set_xlabel('R-axis (cm)')
ax2.set_ylabel('Z-axis (cm)', rotation=90);
ax2.set_xticks(ticks=Rticks,labels=Rlabels, fontsize=12, rotation=45)
ax2.set_yticks(ticks=Zticks,labels=Zlabels, fontsize=12)
ax2.set_title('Density Field at {}$\mu$s'.format(round(late_npz['sim_time'].item(),1)), y=-0.1)
ax2.axvline(Rticks[5], ls=':', color='k');
#fig.savefig('./paper_figures/densities.png')



